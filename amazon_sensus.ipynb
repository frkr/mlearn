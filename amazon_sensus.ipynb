{
 "cells": [
  {
   "cell_type": "raw",
   "source": [
    "---\n",
    "title: Teste Sensus\n",
    "description: Teste Sensus\n",
    "show-code: false\n",
    "---"
   ],
   "metadata": {
    "collapsed": false
   }
  },
  {
   "cell_type": "code",
   "execution_count": 10,
   "outputs": [
    {
     "data": {
      "text/plain": "['Age',\n 'Workclass',\n 'Education-Num',\n 'Marital Status',\n 'Occupation',\n 'Relationship',\n 'Race',\n 'Sex',\n 'Capital Gain',\n 'Capital Loss',\n 'Hours per week',\n 'Country']"
     },
     "execution_count": 10,
     "metadata": {},
     "output_type": "execute_result"
    }
   ],
   "source": [
    "import shap\n",
    "X, y = shap.datasets.adult()\n",
    "X_display, y_display = shap.datasets.adult(display=True)\n",
    "feature_names = list(X.columns)\n",
    "feature_names"
   ],
   "metadata": {
    "collapsed": false
   }
  },
  {
   "cell_type": "code",
   "execution_count": 37,
   "outputs": [
    {
     "data": {
      "text/plain": "39.0"
     },
     "execution_count": 37,
     "metadata": {},
     "output_type": "execute_result"
    }
   ],
   "source": [
    "# display(X.describe())\n",
    "# hist = X.hist(bins=30, sharey=True, figsize=(20, 10))\n",
    "\n",
    "X['Age'][0]"
   ],
   "metadata": {
    "collapsed": false
   }
  },
  {
   "cell_type": "code",
   "execution_count": 12,
   "outputs": [],
   "source": [
    "from sklearn.model_selection import train_test_split\n",
    "X_train, X_test, y_train, y_test = train_test_split(X, y, test_size=0.2, random_state=1)\n",
    "X_train_display = X_display.loc[X_train.index]"
   ],
   "metadata": {
    "collapsed": false
   }
  },
  {
   "cell_type": "code",
   "execution_count": 13,
   "outputs": [],
   "source": [
    "X_train, X_val, y_train, y_val = train_test_split(X_train, y_train, test_size=0.25, random_state=1)\n",
    "X_train_display = X_display.loc[X_train.index]\n",
    "X_val_display = X_display.loc[X_val.index]"
   ],
   "metadata": {
    "collapsed": false
   }
  },
  {
   "cell_type": "code",
   "execution_count": 14,
   "outputs": [],
   "source": [
    "import pandas as pd\n",
    "train = pd.concat([pd.Series(y_train, index=X_train.index,\n",
    "                             name='Income>50K', dtype=int), X_train], axis=1)\n",
    "validation = pd.concat([pd.Series(y_val, index=X_val.index,\n",
    "                                  name='Income>50K', dtype=int), X_val], axis=1)\n",
    "test = pd.concat([pd.Series(y_test, index=X_test.index,\n",
    "                            name='Income>50K', dtype=int), X_test], axis=1)"
   ],
   "metadata": {
    "collapsed": false
   }
  },
  {
   "cell_type": "code",
   "execution_count": 15,
   "outputs": [
    {
     "data": {
      "text/plain": "       Income>50K   Age  Workclass  Education-Num  Marital Status  Occupation  \\\n10911           1  47.0          4            9.0               2           3   \n17852           0  31.0          4           13.0               2           7   \n29165           1  32.0          4           10.0               2          13   \n30287           0  58.0          4            9.0               2           3   \n24019           0  17.0          4            6.0               4           6   \n...           ...   ...        ...            ...             ...         ...   \n21168           0  43.0          4            8.0               2          14   \n6452            0  26.0          4            9.0               4           7   \n31352           0  32.0          7           14.0               2          10   \n6575            0  45.0          4            9.0               4           6   \n23608           0  23.0          4            9.0               4           1   \n\n       Relationship  Race  Sex  Capital Gain  Capital Loss  Hours per week  \\\n10911             4     4    1           0.0           0.0            40.0   \n17852             4     3    1           0.0           0.0            36.0   \n29165             5     4    0           0.0           0.0            32.0   \n30287             4     2    1           0.0           0.0            40.0   \n24019             3     4    1           0.0           0.0            20.0   \n...             ...   ...  ...           ...           ...             ...   \n21168             4     4    1           0.0           0.0            40.0   \n6452              0     4    1           0.0           0.0            52.0   \n31352             4     4    1           0.0           0.0            50.0   \n6575              0     4    1           0.0           0.0            40.0   \n23608             1     4    0           0.0           0.0            40.0   \n\n       Country  \n10911       39  \n17852       26  \n29165       39  \n30287       39  \n24019       39  \n...        ...  \n21168       39  \n6452        39  \n31352       39  \n6575        39  \n23608       39  \n\n[19536 rows x 13 columns]",
      "text/html": "<div>\n<style scoped>\n    .dataframe tbody tr th:only-of-type {\n        vertical-align: middle;\n    }\n\n    .dataframe tbody tr th {\n        vertical-align: top;\n    }\n\n    .dataframe thead th {\n        text-align: right;\n    }\n</style>\n<table border=\"1\" class=\"dataframe\">\n  <thead>\n    <tr style=\"text-align: right;\">\n      <th></th>\n      <th>Income&gt;50K</th>\n      <th>Age</th>\n      <th>Workclass</th>\n      <th>Education-Num</th>\n      <th>Marital Status</th>\n      <th>Occupation</th>\n      <th>Relationship</th>\n      <th>Race</th>\n      <th>Sex</th>\n      <th>Capital Gain</th>\n      <th>Capital Loss</th>\n      <th>Hours per week</th>\n      <th>Country</th>\n    </tr>\n  </thead>\n  <tbody>\n    <tr>\n      <th>10911</th>\n      <td>1</td>\n      <td>47.0</td>\n      <td>4</td>\n      <td>9.0</td>\n      <td>2</td>\n      <td>3</td>\n      <td>4</td>\n      <td>4</td>\n      <td>1</td>\n      <td>0.0</td>\n      <td>0.0</td>\n      <td>40.0</td>\n      <td>39</td>\n    </tr>\n    <tr>\n      <th>17852</th>\n      <td>0</td>\n      <td>31.0</td>\n      <td>4</td>\n      <td>13.0</td>\n      <td>2</td>\n      <td>7</td>\n      <td>4</td>\n      <td>3</td>\n      <td>1</td>\n      <td>0.0</td>\n      <td>0.0</td>\n      <td>36.0</td>\n      <td>26</td>\n    </tr>\n    <tr>\n      <th>29165</th>\n      <td>1</td>\n      <td>32.0</td>\n      <td>4</td>\n      <td>10.0</td>\n      <td>2</td>\n      <td>13</td>\n      <td>5</td>\n      <td>4</td>\n      <td>0</td>\n      <td>0.0</td>\n      <td>0.0</td>\n      <td>32.0</td>\n      <td>39</td>\n    </tr>\n    <tr>\n      <th>30287</th>\n      <td>0</td>\n      <td>58.0</td>\n      <td>4</td>\n      <td>9.0</td>\n      <td>2</td>\n      <td>3</td>\n      <td>4</td>\n      <td>2</td>\n      <td>1</td>\n      <td>0.0</td>\n      <td>0.0</td>\n      <td>40.0</td>\n      <td>39</td>\n    </tr>\n    <tr>\n      <th>24019</th>\n      <td>0</td>\n      <td>17.0</td>\n      <td>4</td>\n      <td>6.0</td>\n      <td>4</td>\n      <td>6</td>\n      <td>3</td>\n      <td>4</td>\n      <td>1</td>\n      <td>0.0</td>\n      <td>0.0</td>\n      <td>20.0</td>\n      <td>39</td>\n    </tr>\n    <tr>\n      <th>...</th>\n      <td>...</td>\n      <td>...</td>\n      <td>...</td>\n      <td>...</td>\n      <td>...</td>\n      <td>...</td>\n      <td>...</td>\n      <td>...</td>\n      <td>...</td>\n      <td>...</td>\n      <td>...</td>\n      <td>...</td>\n      <td>...</td>\n    </tr>\n    <tr>\n      <th>21168</th>\n      <td>0</td>\n      <td>43.0</td>\n      <td>4</td>\n      <td>8.0</td>\n      <td>2</td>\n      <td>14</td>\n      <td>4</td>\n      <td>4</td>\n      <td>1</td>\n      <td>0.0</td>\n      <td>0.0</td>\n      <td>40.0</td>\n      <td>39</td>\n    </tr>\n    <tr>\n      <th>6452</th>\n      <td>0</td>\n      <td>26.0</td>\n      <td>4</td>\n      <td>9.0</td>\n      <td>4</td>\n      <td>7</td>\n      <td>0</td>\n      <td>4</td>\n      <td>1</td>\n      <td>0.0</td>\n      <td>0.0</td>\n      <td>52.0</td>\n      <td>39</td>\n    </tr>\n    <tr>\n      <th>31352</th>\n      <td>0</td>\n      <td>32.0</td>\n      <td>7</td>\n      <td>14.0</td>\n      <td>2</td>\n      <td>10</td>\n      <td>4</td>\n      <td>4</td>\n      <td>1</td>\n      <td>0.0</td>\n      <td>0.0</td>\n      <td>50.0</td>\n      <td>39</td>\n    </tr>\n    <tr>\n      <th>6575</th>\n      <td>0</td>\n      <td>45.0</td>\n      <td>4</td>\n      <td>9.0</td>\n      <td>4</td>\n      <td>6</td>\n      <td>0</td>\n      <td>4</td>\n      <td>1</td>\n      <td>0.0</td>\n      <td>0.0</td>\n      <td>40.0</td>\n      <td>39</td>\n    </tr>\n    <tr>\n      <th>23608</th>\n      <td>0</td>\n      <td>23.0</td>\n      <td>4</td>\n      <td>9.0</td>\n      <td>4</td>\n      <td>1</td>\n      <td>1</td>\n      <td>4</td>\n      <td>0</td>\n      <td>0.0</td>\n      <td>0.0</td>\n      <td>40.0</td>\n      <td>39</td>\n    </tr>\n  </tbody>\n</table>\n<p>19536 rows × 13 columns</p>\n</div>"
     },
     "execution_count": 15,
     "metadata": {},
     "output_type": "execute_result"
    }
   ],
   "source": [
    "train"
   ],
   "metadata": {
    "collapsed": false
   }
  },
  {
   "cell_type": "code",
   "execution_count": 16,
   "outputs": [
    {
     "data": {
      "text/plain": "       Income>50K   Age  Workclass  Education-Num  Marital Status  Occupation  \\\n16530           0  25.0          4            4.0               2           6   \n26723           0  41.0          6            9.0               2           5   \n3338            0  79.0          0            9.0               6           0   \n19367           1  43.0          2           15.0               2          10   \n30274           0  51.0          5            9.0               4          12   \n...           ...   ...        ...            ...             ...         ...   \n1604            0  46.0          7            9.0               2          13   \n5937            1  71.0          4           10.0               6          12   \n11034           0  36.0          4            9.0               5          14   \n2819            0  31.0          4            9.0               4           8   \n14152           1  37.0          4           10.0               2          12   \n\n       Relationship  Race  Sex  Capital Gain  Capital Loss  Hours per week  \\\n16530             4     4    1           0.0           0.0            40.0   \n26723             5     4    0           0.0           0.0            40.0   \n3338              0     2    0           0.0           0.0            30.0   \n19367             4     4    1       15024.0           0.0            45.0   \n30274             2     4    1           0.0           0.0            40.0   \n...             ...   ...  ...           ...           ...             ...   \n1604              4     4    1           0.0           0.0            40.0   \n5937              0     4    1           0.0           0.0            35.0   \n11034             2     4    1           0.0           0.0            60.0   \n2819              0     4    0           0.0           0.0            40.0   \n14152             4     4    1           0.0           0.0            50.0   \n\n       Country  \n16530       26  \n26723       39  \n3338        39  \n19367       39  \n30274        0  \n...        ...  \n1604        39  \n5937        39  \n11034       26  \n2819        39  \n14152       11  \n\n[6512 rows x 13 columns]",
      "text/html": "<div>\n<style scoped>\n    .dataframe tbody tr th:only-of-type {\n        vertical-align: middle;\n    }\n\n    .dataframe tbody tr th {\n        vertical-align: top;\n    }\n\n    .dataframe thead th {\n        text-align: right;\n    }\n</style>\n<table border=\"1\" class=\"dataframe\">\n  <thead>\n    <tr style=\"text-align: right;\">\n      <th></th>\n      <th>Income&gt;50K</th>\n      <th>Age</th>\n      <th>Workclass</th>\n      <th>Education-Num</th>\n      <th>Marital Status</th>\n      <th>Occupation</th>\n      <th>Relationship</th>\n      <th>Race</th>\n      <th>Sex</th>\n      <th>Capital Gain</th>\n      <th>Capital Loss</th>\n      <th>Hours per week</th>\n      <th>Country</th>\n    </tr>\n  </thead>\n  <tbody>\n    <tr>\n      <th>16530</th>\n      <td>0</td>\n      <td>25.0</td>\n      <td>4</td>\n      <td>4.0</td>\n      <td>2</td>\n      <td>6</td>\n      <td>4</td>\n      <td>4</td>\n      <td>1</td>\n      <td>0.0</td>\n      <td>0.0</td>\n      <td>40.0</td>\n      <td>26</td>\n    </tr>\n    <tr>\n      <th>26723</th>\n      <td>0</td>\n      <td>41.0</td>\n      <td>6</td>\n      <td>9.0</td>\n      <td>2</td>\n      <td>5</td>\n      <td>5</td>\n      <td>4</td>\n      <td>0</td>\n      <td>0.0</td>\n      <td>0.0</td>\n      <td>40.0</td>\n      <td>39</td>\n    </tr>\n    <tr>\n      <th>3338</th>\n      <td>0</td>\n      <td>79.0</td>\n      <td>0</td>\n      <td>9.0</td>\n      <td>6</td>\n      <td>0</td>\n      <td>0</td>\n      <td>2</td>\n      <td>0</td>\n      <td>0.0</td>\n      <td>0.0</td>\n      <td>30.0</td>\n      <td>39</td>\n    </tr>\n    <tr>\n      <th>19367</th>\n      <td>1</td>\n      <td>43.0</td>\n      <td>2</td>\n      <td>15.0</td>\n      <td>2</td>\n      <td>10</td>\n      <td>4</td>\n      <td>4</td>\n      <td>1</td>\n      <td>15024.0</td>\n      <td>0.0</td>\n      <td>45.0</td>\n      <td>39</td>\n    </tr>\n    <tr>\n      <th>30274</th>\n      <td>0</td>\n      <td>51.0</td>\n      <td>5</td>\n      <td>9.0</td>\n      <td>4</td>\n      <td>12</td>\n      <td>2</td>\n      <td>4</td>\n      <td>1</td>\n      <td>0.0</td>\n      <td>0.0</td>\n      <td>40.0</td>\n      <td>0</td>\n    </tr>\n    <tr>\n      <th>...</th>\n      <td>...</td>\n      <td>...</td>\n      <td>...</td>\n      <td>...</td>\n      <td>...</td>\n      <td>...</td>\n      <td>...</td>\n      <td>...</td>\n      <td>...</td>\n      <td>...</td>\n      <td>...</td>\n      <td>...</td>\n      <td>...</td>\n    </tr>\n    <tr>\n      <th>1604</th>\n      <td>0</td>\n      <td>46.0</td>\n      <td>7</td>\n      <td>9.0</td>\n      <td>2</td>\n      <td>13</td>\n      <td>4</td>\n      <td>4</td>\n      <td>1</td>\n      <td>0.0</td>\n      <td>0.0</td>\n      <td>40.0</td>\n      <td>39</td>\n    </tr>\n    <tr>\n      <th>5937</th>\n      <td>1</td>\n      <td>71.0</td>\n      <td>4</td>\n      <td>10.0</td>\n      <td>6</td>\n      <td>12</td>\n      <td>0</td>\n      <td>4</td>\n      <td>1</td>\n      <td>0.0</td>\n      <td>0.0</td>\n      <td>35.0</td>\n      <td>39</td>\n    </tr>\n    <tr>\n      <th>11034</th>\n      <td>0</td>\n      <td>36.0</td>\n      <td>4</td>\n      <td>9.0</td>\n      <td>5</td>\n      <td>14</td>\n      <td>2</td>\n      <td>4</td>\n      <td>1</td>\n      <td>0.0</td>\n      <td>0.0</td>\n      <td>60.0</td>\n      <td>26</td>\n    </tr>\n    <tr>\n      <th>2819</th>\n      <td>0</td>\n      <td>31.0</td>\n      <td>4</td>\n      <td>9.0</td>\n      <td>4</td>\n      <td>8</td>\n      <td>0</td>\n      <td>4</td>\n      <td>0</td>\n      <td>0.0</td>\n      <td>0.0</td>\n      <td>40.0</td>\n      <td>39</td>\n    </tr>\n    <tr>\n      <th>14152</th>\n      <td>1</td>\n      <td>37.0</td>\n      <td>4</td>\n      <td>10.0</td>\n      <td>2</td>\n      <td>12</td>\n      <td>4</td>\n      <td>4</td>\n      <td>1</td>\n      <td>0.0</td>\n      <td>0.0</td>\n      <td>50.0</td>\n      <td>11</td>\n    </tr>\n  </tbody>\n</table>\n<p>6512 rows × 13 columns</p>\n</div>"
     },
     "execution_count": 16,
     "metadata": {},
     "output_type": "execute_result"
    }
   ],
   "source": [
    "validation"
   ],
   "metadata": {
    "collapsed": false
   }
  },
  {
   "cell_type": "code",
   "execution_count": 17,
   "outputs": [
    {
     "data": {
      "text/plain": "       Income>50K   Age  Workclass  Education-Num  Marital Status  Occupation  \\\n9646            0  62.0          6            4.0               6           8   \n709             0  18.0          4            7.0               4           8   \n7385            1  25.0          4           13.0               4           5   \n16671           0  33.0          4            9.0               2          10   \n21932           0  36.0          4            7.0               4           7   \n...           ...   ...        ...            ...             ...         ...   \n5889            1  39.0          4           13.0               2          10   \n25723           0  17.0          4            6.0               4          12   \n29514           0  35.0          4            9.0               4          14   \n1600            0  30.0          4            7.0               2           3   \n639             1  52.0          6           16.0               2          10   \n\n       Relationship  Race  Sex  Capital Gain  Capital Loss  Hours per week  \\\n9646              0     4    0           0.0           0.0            66.0   \n709               2     4    1           0.0           0.0            25.0   \n7385              3     4    1       27828.0           0.0            50.0   \n16671             4     4    1           0.0           0.0            40.0   \n21932             1     4    0           0.0           0.0            40.0   \n...             ...   ...  ...           ...           ...             ...   \n5889              5     4    0           0.0           0.0            20.0   \n25723             3     4    0           0.0           0.0            20.0   \n29514             3     4    1           0.0           0.0            40.0   \n1600              4     4    1           0.0           0.0            45.0   \n639               4     4    1           0.0           0.0            60.0   \n\n       Country  \n9646        39  \n709         39  \n7385        39  \n16671       39  \n21932       39  \n...        ...  \n5889        39  \n25723       39  \n29514       39  \n1600        39  \n639         39  \n\n[6513 rows x 13 columns]",
      "text/html": "<div>\n<style scoped>\n    .dataframe tbody tr th:only-of-type {\n        vertical-align: middle;\n    }\n\n    .dataframe tbody tr th {\n        vertical-align: top;\n    }\n\n    .dataframe thead th {\n        text-align: right;\n    }\n</style>\n<table border=\"1\" class=\"dataframe\">\n  <thead>\n    <tr style=\"text-align: right;\">\n      <th></th>\n      <th>Income&gt;50K</th>\n      <th>Age</th>\n      <th>Workclass</th>\n      <th>Education-Num</th>\n      <th>Marital Status</th>\n      <th>Occupation</th>\n      <th>Relationship</th>\n      <th>Race</th>\n      <th>Sex</th>\n      <th>Capital Gain</th>\n      <th>Capital Loss</th>\n      <th>Hours per week</th>\n      <th>Country</th>\n    </tr>\n  </thead>\n  <tbody>\n    <tr>\n      <th>9646</th>\n      <td>0</td>\n      <td>62.0</td>\n      <td>6</td>\n      <td>4.0</td>\n      <td>6</td>\n      <td>8</td>\n      <td>0</td>\n      <td>4</td>\n      <td>0</td>\n      <td>0.0</td>\n      <td>0.0</td>\n      <td>66.0</td>\n      <td>39</td>\n    </tr>\n    <tr>\n      <th>709</th>\n      <td>0</td>\n      <td>18.0</td>\n      <td>4</td>\n      <td>7.0</td>\n      <td>4</td>\n      <td>8</td>\n      <td>2</td>\n      <td>4</td>\n      <td>1</td>\n      <td>0.0</td>\n      <td>0.0</td>\n      <td>25.0</td>\n      <td>39</td>\n    </tr>\n    <tr>\n      <th>7385</th>\n      <td>1</td>\n      <td>25.0</td>\n      <td>4</td>\n      <td>13.0</td>\n      <td>4</td>\n      <td>5</td>\n      <td>3</td>\n      <td>4</td>\n      <td>1</td>\n      <td>27828.0</td>\n      <td>0.0</td>\n      <td>50.0</td>\n      <td>39</td>\n    </tr>\n    <tr>\n      <th>16671</th>\n      <td>0</td>\n      <td>33.0</td>\n      <td>4</td>\n      <td>9.0</td>\n      <td>2</td>\n      <td>10</td>\n      <td>4</td>\n      <td>4</td>\n      <td>1</td>\n      <td>0.0</td>\n      <td>0.0</td>\n      <td>40.0</td>\n      <td>39</td>\n    </tr>\n    <tr>\n      <th>21932</th>\n      <td>0</td>\n      <td>36.0</td>\n      <td>4</td>\n      <td>7.0</td>\n      <td>4</td>\n      <td>7</td>\n      <td>1</td>\n      <td>4</td>\n      <td>0</td>\n      <td>0.0</td>\n      <td>0.0</td>\n      <td>40.0</td>\n      <td>39</td>\n    </tr>\n    <tr>\n      <th>...</th>\n      <td>...</td>\n      <td>...</td>\n      <td>...</td>\n      <td>...</td>\n      <td>...</td>\n      <td>...</td>\n      <td>...</td>\n      <td>...</td>\n      <td>...</td>\n      <td>...</td>\n      <td>...</td>\n      <td>...</td>\n      <td>...</td>\n    </tr>\n    <tr>\n      <th>5889</th>\n      <td>1</td>\n      <td>39.0</td>\n      <td>4</td>\n      <td>13.0</td>\n      <td>2</td>\n      <td>10</td>\n      <td>5</td>\n      <td>4</td>\n      <td>0</td>\n      <td>0.0</td>\n      <td>0.0</td>\n      <td>20.0</td>\n      <td>39</td>\n    </tr>\n    <tr>\n      <th>25723</th>\n      <td>0</td>\n      <td>17.0</td>\n      <td>4</td>\n      <td>6.0</td>\n      <td>4</td>\n      <td>12</td>\n      <td>3</td>\n      <td>4</td>\n      <td>0</td>\n      <td>0.0</td>\n      <td>0.0</td>\n      <td>20.0</td>\n      <td>39</td>\n    </tr>\n    <tr>\n      <th>29514</th>\n      <td>0</td>\n      <td>35.0</td>\n      <td>4</td>\n      <td>9.0</td>\n      <td>4</td>\n      <td>14</td>\n      <td>3</td>\n      <td>4</td>\n      <td>1</td>\n      <td>0.0</td>\n      <td>0.0</td>\n      <td>40.0</td>\n      <td>39</td>\n    </tr>\n    <tr>\n      <th>1600</th>\n      <td>0</td>\n      <td>30.0</td>\n      <td>4</td>\n      <td>7.0</td>\n      <td>2</td>\n      <td>3</td>\n      <td>4</td>\n      <td>4</td>\n      <td>1</td>\n      <td>0.0</td>\n      <td>0.0</td>\n      <td>45.0</td>\n      <td>39</td>\n    </tr>\n    <tr>\n      <th>639</th>\n      <td>1</td>\n      <td>52.0</td>\n      <td>6</td>\n      <td>16.0</td>\n      <td>2</td>\n      <td>10</td>\n      <td>4</td>\n      <td>4</td>\n      <td>1</td>\n      <td>0.0</td>\n      <td>0.0</td>\n      <td>60.0</td>\n      <td>39</td>\n    </tr>\n  </tbody>\n</table>\n<p>6513 rows × 13 columns</p>\n</div>"
     },
     "execution_count": 17,
     "metadata": {},
     "output_type": "execute_result"
    }
   ],
   "source": [
    "test"
   ],
   "metadata": {
    "collapsed": false
   }
  },
  {
   "cell_type": "markdown",
   "source": [
    "# Export to SageMaker?"
   ],
   "metadata": {
    "collapsed": false
   }
  },
  {
   "cell_type": "code",
   "execution_count": 18,
   "outputs": [],
   "source": [
    "# Use 'csv' format to store the data\n",
    "# The first column is expected to be the output column\n",
    "# train.to_csv('train.csv', index=False, header=False)\n",
    "# validation.to_csv('validation.csv', index=False, header=False)"
   ],
   "metadata": {
    "collapsed": false
   }
  },
  {
   "cell_type": "code",
   "execution_count": 19,
   "outputs": [],
   "source": [
    "# import sagemaker, boto3, os\n",
    "# bucket = sagemaker.Session().default_bucket()\n",
    "# prefix = \"demo-sagemaker-xgboost-adult-income-prediction\"\n",
    "#\n",
    "# boto3.Session().resource('s3').Bucket(bucket).Object(\n",
    "#     os.path.join(prefix, 'data/train.csv')).upload_file('train.csv')\n",
    "# boto3.Session().resource('s3').Bucket(bucket).Object(\n",
    "#     os.path.join(prefix, 'data/validation.csv')).upload_file('validation.csv')\n",
    "\n",
    "\n",
    "# ! aws s3 ls {bucket}/{prefix}/data --recursive\n"
   ],
   "metadata": {
    "collapsed": false
   }
  }
 ],
 "metadata": {
  "kernelspec": {
   "display_name": "Python 3",
   "language": "python",
   "name": "python3"
  },
  "language_info": {
   "codemirror_mode": {
    "name": "ipython",
    "version": 2
   },
   "file_extension": ".py",
   "mimetype": "text/x-python",
   "name": "python",
   "nbconvert_exporter": "python",
   "pygments_lexer": "ipython2",
   "version": "2.7.6"
  }
 },
 "nbformat": 4,
 "nbformat_minor": 0
}
