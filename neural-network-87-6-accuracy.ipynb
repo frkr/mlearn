{
 "metadata": {
  "kernelspec": {
   "language": "python",
   "display_name": "Python 3",
   "name": "python3"
  },
  "language_info": {
   "pygments_lexer": "ipython3",
   "nbconvert_exporter": "python",
   "version": "3.6.4",
   "file_extension": ".py",
   "codemirror_mode": {
    "name": "ipython",
    "version": 3
   },
   "name": "python",
   "mimetype": "text/x-python"
  }
 },
 "nbformat_minor": 4,
 "nbformat": 4,
 "cells": [
  {
   "cell_type": "code",
   "source": [
    "# This Python 3 environment comes with many helpful analytics libraries installed\n",
    "# It is defined by the kaggle/python Docker image: https://github.com/kaggle/docker-python\n",
    "# For example, here's several helpful packages to load\n",
    "\n",
    "import numpy as np # linear algebra\n",
    "import pandas as pd # data processing, CSV file I/O (e.g. pd.read_csv)\n",
    "import matplotlib.pyplot as plt\n",
    "!pip install -U seaborn\n",
    "import seaborn as sns\n",
    "%matplotlib inline\n",
    "# Input data files are available in the read-only \"data/\" directory\n",
    "# For example, running this (by clicking run or pressing Shift+Enter) will list all files under the input directory\n",
    "\n",
    "import os\n",
    "for dirname, _, filenames in os.walk('/kaggle/input'):\n",
    "    for filename in filenames:\n",
    "        print(os.path.join(dirname, filename))\n",
    "\n",
    "# You can write up to 20GB to the current directory (/kaggle/working/) that gets preserved as output when you create a version using \"Save & Run All\" \n",
    "# You can also write temporary files to /kaggle/temp/, but they won't be saved outside of the current session"
   ],
   "metadata": {
    "_uuid": "8f2839f25d086af736a60e9eeb907d3b93b6e0e5",
    "_cell_guid": "b1076dfc-b9ad-4769-8c92-a6c4dae69d19",
    "execution": {
     "iopub.status.busy": "2021-09-04T20:51:56.182617Z",
     "iopub.execute_input": "2021-09-04T20:51:56.183001Z",
     "iopub.status.idle": "2021-09-04T20:52:05.451559Z",
     "shell.execute_reply.started": "2021-09-04T20:51:56.182919Z",
     "shell.execute_reply": "2021-09-04T20:52:05.450687Z"
    },
    "trusted": true
   },
   "execution_count": 1,
   "outputs": [
    {
     "name": "stdout",
     "output_type": "stream",
     "text": [
      "Requirement already satisfied: seaborn in c:\\python310\\lib\\site-packages (0.12.0)\n",
      "Requirement already satisfied: pandas>=0.25 in c:\\python310\\lib\\site-packages (from seaborn) (1.5.0)\n",
      "Requirement already satisfied: numpy>=1.17 in c:\\python310\\lib\\site-packages (from seaborn) (1.23.4)\n",
      "Requirement already satisfied: matplotlib>=3.1 in c:\\python310\\lib\\site-packages (from seaborn) (3.6.1)\n",
      "Requirement already satisfied: pyparsing>=2.2.1 in c:\\python310\\lib\\site-packages (from matplotlib>=3.1->seaborn) (3.0.9)\n",
      "Requirement already satisfied: packaging>=20.0 in c:\\python310\\lib\\site-packages (from matplotlib>=3.1->seaborn) (21.3)\n",
      "Requirement already satisfied: cycler>=0.10 in c:\\python310\\lib\\site-packages (from matplotlib>=3.1->seaborn) (0.11.0)\n",
      "Requirement already satisfied: contourpy>=1.0.1 in c:\\python310\\lib\\site-packages (from matplotlib>=3.1->seaborn) (1.0.5)\n",
      "Requirement already satisfied: fonttools>=4.22.0 in c:\\python310\\lib\\site-packages (from matplotlib>=3.1->seaborn) (4.37.4)\n",
      "Requirement already satisfied: pillow>=6.2.0 in c:\\python310\\lib\\site-packages (from matplotlib>=3.1->seaborn) (9.2.0)\n",
      "Requirement already satisfied: python-dateutil>=2.7 in c:\\python310\\lib\\site-packages (from matplotlib>=3.1->seaborn) (2.8.2)\n",
      "Requirement already satisfied: kiwisolver>=1.0.1 in c:\\python310\\lib\\site-packages (from matplotlib>=3.1->seaborn) (1.4.4)\n",
      "Requirement already satisfied: pytz>=2020.1 in c:\\python310\\lib\\site-packages (from pandas>=0.25->seaborn) (2022.4)\n",
      "Requirement already satisfied: six>=1.5 in c:\\python310\\lib\\site-packages (from python-dateutil>=2.7->matplotlib>=3.1->seaborn) (1.16.0)\n"
     ]
    }
   ]
  },
  {
   "cell_type": "markdown",
   "source": [
    "# Exploring dataset"
   ],
   "metadata": {}
  },
  {
   "cell_type": "code",
   "source": [
    "df=pd.read_csv('data/health-insurance-cross-sell-prediction/train.csv')"
   ],
   "metadata": {
    "execution": {
     "iopub.status.busy": "2021-09-04T20:52:05.453358Z",
     "iopub.execute_input": "2021-09-04T20:52:05.453741Z",
     "iopub.status.idle": "2021-09-04T20:52:06.054907Z",
     "shell.execute_reply.started": "2021-09-04T20:52:05.453696Z",
     "shell.execute_reply": "2021-09-04T20:52:06.054065Z"
    },
    "trusted": true
   },
   "execution_count": 2,
   "outputs": []
  },
  {
   "cell_type": "code",
   "source": [
    "df_test=pd.read_csv('data/health-insurance-cross-sell-prediction/test.csv')"
   ],
   "metadata": {
    "execution": {
     "iopub.status.busy": "2021-09-04T20:52:06.056521Z",
     "iopub.execute_input": "2021-09-04T20:52:06.056837Z",
     "iopub.status.idle": "2021-09-04T20:52:06.252941Z",
     "shell.execute_reply.started": "2021-09-04T20:52:06.0568Z",
     "shell.execute_reply": "2021-09-04T20:52:06.252038Z"
    },
    "trusted": true
   },
   "execution_count": 3,
   "outputs": []
  },
  {
   "cell_type": "code",
   "source": [
    "df.info()"
   ],
   "metadata": {
    "execution": {
     "iopub.status.busy": "2021-09-04T20:52:06.254489Z",
     "iopub.execute_input": "2021-09-04T20:52:06.254845Z",
     "iopub.status.idle": "2021-09-04T20:52:06.377574Z",
     "shell.execute_reply.started": "2021-09-04T20:52:06.254808Z",
     "shell.execute_reply": "2021-09-04T20:52:06.376601Z"
    },
    "trusted": true
   },
   "execution_count": 4,
   "outputs": [
    {
     "name": "stdout",
     "output_type": "stream",
     "text": [
      "<class 'pandas.core.frame.DataFrame'>\n",
      "RangeIndex: 381109 entries, 0 to 381108\n",
      "Data columns (total 12 columns):\n",
      " #   Column                Non-Null Count   Dtype  \n",
      "---  ------                --------------   -----  \n",
      " 0   id                    381109 non-null  int64  \n",
      " 1   Gender                381109 non-null  object \n",
      " 2   Age                   381109 non-null  int64  \n",
      " 3   Driving_License       381109 non-null  int64  \n",
      " 4   Region_Code           381109 non-null  float64\n",
      " 5   Previously_Insured    381109 non-null  int64  \n",
      " 6   Vehicle_Age           381109 non-null  object \n",
      " 7   Vehicle_Damage        381109 non-null  object \n",
      " 8   Annual_Premium        381109 non-null  float64\n",
      " 9   Policy_Sales_Channel  381109 non-null  float64\n",
      " 10  Vintage               381109 non-null  int64  \n",
      " 11  Response              381109 non-null  int64  \n",
      "dtypes: float64(3), int64(6), object(3)\n",
      "memory usage: 34.9+ MB\n"
     ]
    }
   ]
  },
  {
   "cell_type": "code",
   "source": [
    "df.head()"
   ],
   "metadata": {
    "execution": {
     "iopub.status.busy": "2021-09-04T20:52:07.093552Z",
     "iopub.execute_input": "2021-09-04T20:52:07.093912Z",
     "iopub.status.idle": "2021-09-04T20:52:07.1169Z",
     "shell.execute_reply.started": "2021-09-04T20:52:07.093881Z",
     "shell.execute_reply": "2021-09-04T20:52:07.115916Z"
    },
    "trusted": true
   },
   "execution_count": 5,
   "outputs": [
    {
     "data": {
      "text/plain": "   id  Gender  Age  Driving_License  Region_Code  Previously_Insured  \\\n0   1    Male   44                1         28.0                   0   \n1   2    Male   76                1          3.0                   0   \n2   3    Male   47                1         28.0                   0   \n3   4    Male   21                1         11.0                   1   \n4   5  Female   29                1         41.0                   1   \n\n  Vehicle_Age Vehicle_Damage  Annual_Premium  Policy_Sales_Channel  Vintage  \\\n0   > 2 Years            Yes         40454.0                  26.0      217   \n1    1-2 Year             No         33536.0                  26.0      183   \n2   > 2 Years            Yes         38294.0                  26.0       27   \n3    < 1 Year             No         28619.0                 152.0      203   \n4    < 1 Year             No         27496.0                 152.0       39   \n\n   Response  \n0         1  \n1         0  \n2         1  \n3         0  \n4         0  ",
      "text/html": "<div>\n<style scoped>\n    .dataframe tbody tr th:only-of-type {\n        vertical-align: middle;\n    }\n\n    .dataframe tbody tr th {\n        vertical-align: top;\n    }\n\n    .dataframe thead th {\n        text-align: right;\n    }\n</style>\n<table border=\"1\" class=\"dataframe\">\n  <thead>\n    <tr style=\"text-align: right;\">\n      <th></th>\n      <th>id</th>\n      <th>Gender</th>\n      <th>Age</th>\n      <th>Driving_License</th>\n      <th>Region_Code</th>\n      <th>Previously_Insured</th>\n      <th>Vehicle_Age</th>\n      <th>Vehicle_Damage</th>\n      <th>Annual_Premium</th>\n      <th>Policy_Sales_Channel</th>\n      <th>Vintage</th>\n      <th>Response</th>\n    </tr>\n  </thead>\n  <tbody>\n    <tr>\n      <th>0</th>\n      <td>1</td>\n      <td>Male</td>\n      <td>44</td>\n      <td>1</td>\n      <td>28.0</td>\n      <td>0</td>\n      <td>&gt; 2 Years</td>\n      <td>Yes</td>\n      <td>40454.0</td>\n      <td>26.0</td>\n      <td>217</td>\n      <td>1</td>\n    </tr>\n    <tr>\n      <th>1</th>\n      <td>2</td>\n      <td>Male</td>\n      <td>76</td>\n      <td>1</td>\n      <td>3.0</td>\n      <td>0</td>\n      <td>1-2 Year</td>\n      <td>No</td>\n      <td>33536.0</td>\n      <td>26.0</td>\n      <td>183</td>\n      <td>0</td>\n    </tr>\n    <tr>\n      <th>2</th>\n      <td>3</td>\n      <td>Male</td>\n      <td>47</td>\n      <td>1</td>\n      <td>28.0</td>\n      <td>0</td>\n      <td>&gt; 2 Years</td>\n      <td>Yes</td>\n      <td>38294.0</td>\n      <td>26.0</td>\n      <td>27</td>\n      <td>1</td>\n    </tr>\n    <tr>\n      <th>3</th>\n      <td>4</td>\n      <td>Male</td>\n      <td>21</td>\n      <td>1</td>\n      <td>11.0</td>\n      <td>1</td>\n      <td>&lt; 1 Year</td>\n      <td>No</td>\n      <td>28619.0</td>\n      <td>152.0</td>\n      <td>203</td>\n      <td>0</td>\n    </tr>\n    <tr>\n      <th>4</th>\n      <td>5</td>\n      <td>Female</td>\n      <td>29</td>\n      <td>1</td>\n      <td>41.0</td>\n      <td>1</td>\n      <td>&lt; 1 Year</td>\n      <td>No</td>\n      <td>27496.0</td>\n      <td>152.0</td>\n      <td>39</td>\n      <td>0</td>\n    </tr>\n  </tbody>\n</table>\n</div>"
     },
     "execution_count": 5,
     "metadata": {},
     "output_type": "execute_result"
    }
   ]
  },
  {
   "cell_type": "code",
   "source": [
    "df.describe()"
   ],
   "metadata": {
    "execution": {
     "iopub.status.busy": "2021-09-04T20:52:07.279594Z",
     "iopub.execute_input": "2021-09-04T20:52:07.279876Z",
     "iopub.status.idle": "2021-09-04T20:52:07.397066Z",
     "shell.execute_reply.started": "2021-09-04T20:52:07.279848Z",
     "shell.execute_reply": "2021-09-04T20:52:07.396102Z"
    },
    "trusted": true
   },
   "execution_count": 6,
   "outputs": [
    {
     "data": {
      "text/plain": "                  id            Age  Driving_License    Region_Code  \\\ncount  381109.000000  381109.000000    381109.000000  381109.000000   \nmean   190555.000000      38.822584         0.997869      26.388807   \nstd    110016.836208      15.511611         0.046110      13.229888   \nmin         1.000000      20.000000         0.000000       0.000000   \n25%     95278.000000      25.000000         1.000000      15.000000   \n50%    190555.000000      36.000000         1.000000      28.000000   \n75%    285832.000000      49.000000         1.000000      35.000000   \nmax    381109.000000      85.000000         1.000000      52.000000   \n\n       Previously_Insured  Annual_Premium  Policy_Sales_Channel  \\\ncount       381109.000000   381109.000000         381109.000000   \nmean             0.458210    30564.389581            112.034295   \nstd              0.498251    17213.155057             54.203995   \nmin              0.000000     2630.000000              1.000000   \n25%              0.000000    24405.000000             29.000000   \n50%              0.000000    31669.000000            133.000000   \n75%              1.000000    39400.000000            152.000000   \nmax              1.000000   540165.000000            163.000000   \n\n             Vintage       Response  \ncount  381109.000000  381109.000000  \nmean      154.347397       0.122563  \nstd        83.671304       0.327936  \nmin        10.000000       0.000000  \n25%        82.000000       0.000000  \n50%       154.000000       0.000000  \n75%       227.000000       0.000000  \nmax       299.000000       1.000000  ",
      "text/html": "<div>\n<style scoped>\n    .dataframe tbody tr th:only-of-type {\n        vertical-align: middle;\n    }\n\n    .dataframe tbody tr th {\n        vertical-align: top;\n    }\n\n    .dataframe thead th {\n        text-align: right;\n    }\n</style>\n<table border=\"1\" class=\"dataframe\">\n  <thead>\n    <tr style=\"text-align: right;\">\n      <th></th>\n      <th>id</th>\n      <th>Age</th>\n      <th>Driving_License</th>\n      <th>Region_Code</th>\n      <th>Previously_Insured</th>\n      <th>Annual_Premium</th>\n      <th>Policy_Sales_Channel</th>\n      <th>Vintage</th>\n      <th>Response</th>\n    </tr>\n  </thead>\n  <tbody>\n    <tr>\n      <th>count</th>\n      <td>381109.000000</td>\n      <td>381109.000000</td>\n      <td>381109.000000</td>\n      <td>381109.000000</td>\n      <td>381109.000000</td>\n      <td>381109.000000</td>\n      <td>381109.000000</td>\n      <td>381109.000000</td>\n      <td>381109.000000</td>\n    </tr>\n    <tr>\n      <th>mean</th>\n      <td>190555.000000</td>\n      <td>38.822584</td>\n      <td>0.997869</td>\n      <td>26.388807</td>\n      <td>0.458210</td>\n      <td>30564.389581</td>\n      <td>112.034295</td>\n      <td>154.347397</td>\n      <td>0.122563</td>\n    </tr>\n    <tr>\n      <th>std</th>\n      <td>110016.836208</td>\n      <td>15.511611</td>\n      <td>0.046110</td>\n      <td>13.229888</td>\n      <td>0.498251</td>\n      <td>17213.155057</td>\n      <td>54.203995</td>\n      <td>83.671304</td>\n      <td>0.327936</td>\n    </tr>\n    <tr>\n      <th>min</th>\n      <td>1.000000</td>\n      <td>20.000000</td>\n      <td>0.000000</td>\n      <td>0.000000</td>\n      <td>0.000000</td>\n      <td>2630.000000</td>\n      <td>1.000000</td>\n      <td>10.000000</td>\n      <td>0.000000</td>\n    </tr>\n    <tr>\n      <th>25%</th>\n      <td>95278.000000</td>\n      <td>25.000000</td>\n      <td>1.000000</td>\n      <td>15.000000</td>\n      <td>0.000000</td>\n      <td>24405.000000</td>\n      <td>29.000000</td>\n      <td>82.000000</td>\n      <td>0.000000</td>\n    </tr>\n    <tr>\n      <th>50%</th>\n      <td>190555.000000</td>\n      <td>36.000000</td>\n      <td>1.000000</td>\n      <td>28.000000</td>\n      <td>0.000000</td>\n      <td>31669.000000</td>\n      <td>133.000000</td>\n      <td>154.000000</td>\n      <td>0.000000</td>\n    </tr>\n    <tr>\n      <th>75%</th>\n      <td>285832.000000</td>\n      <td>49.000000</td>\n      <td>1.000000</td>\n      <td>35.000000</td>\n      <td>1.000000</td>\n      <td>39400.000000</td>\n      <td>152.000000</td>\n      <td>227.000000</td>\n      <td>0.000000</td>\n    </tr>\n    <tr>\n      <th>max</th>\n      <td>381109.000000</td>\n      <td>85.000000</td>\n      <td>1.000000</td>\n      <td>52.000000</td>\n      <td>1.000000</td>\n      <td>540165.000000</td>\n      <td>163.000000</td>\n      <td>299.000000</td>\n      <td>1.000000</td>\n    </tr>\n  </tbody>\n</table>\n</div>"
     },
     "execution_count": 6,
     "metadata": {},
     "output_type": "execute_result"
    }
   ]
  },
  {
   "cell_type": "markdown",
   "source": [
    "# Preparing data for fitting the model"
   ],
   "metadata": {}
  },
  {
   "cell_type": "markdown",
   "source": [
    "### Creating Bins"
   ],
   "metadata": {}
  },
  {
   "cell_type": "code",
   "source": [
    "age=pd.cut(df['Age'],bins=5,labels=['A1','A2','A3','A4','A5'])\n",
    "rc=pd.cut(df['Region_Code'],bins=5,labels=['A1','A2','A3','A4','A5'])\n",
    "ap=pd.cut(df['Annual_Premium'],bins=5,labels=['A1','A2','A3','A4','A5'])\n",
    "vin=pd.cut(df['Vintage'],bins=5,labels=['A1','A2','A3','A4','A5'])"
   ],
   "metadata": {
    "execution": {
     "iopub.status.busy": "2021-09-04T20:52:11.632136Z",
     "iopub.execute_input": "2021-09-04T20:52:11.632526Z",
     "iopub.status.idle": "2021-09-04T20:52:11.70023Z",
     "shell.execute_reply.started": "2021-09-04T20:52:11.632492Z",
     "shell.execute_reply": "2021-09-04T20:52:11.699302Z"
    },
    "trusted": true
   },
   "execution_count": 7,
   "outputs": []
  },
  {
   "cell_type": "code",
   "source": [
    "age2=pd.cut(df_test['Age'],bins=5,labels=['A1','A2','A3','A4','A5'])\n",
    "rc2=pd.cut(df_test['Region_Code'],bins=5,labels=['A1','A2','A3','A4','A5'])\n",
    "ap2=pd.cut(df_test['Annual_Premium'],bins=5,labels=['A1','A2','A3','A4','A5'])\n",
    "vin2=pd.cut(df_test['Vintage'],bins=5,labels=['A1','A2','A3','A4','A5'])"
   ],
   "metadata": {
    "execution": {
     "iopub.status.busy": "2021-09-04T20:52:11.771497Z",
     "iopub.execute_input": "2021-09-04T20:52:11.77187Z",
     "iopub.status.idle": "2021-09-04T20:52:11.806873Z",
     "shell.execute_reply.started": "2021-09-04T20:52:11.771834Z",
     "shell.execute_reply": "2021-09-04T20:52:11.806013Z"
    },
    "trusted": true
   },
   "execution_count": 8,
   "outputs": []
  },
  {
   "cell_type": "markdown",
   "source": [
    "## Adding columns to our datasets"
   ],
   "metadata": {}
  },
  {
   "cell_type": "code",
   "source": [
    "df['age']=age             \n",
    "df['rc']=rc \n",
    "df['ap']=ap\n",
    "df['vin']=vin"
   ],
   "metadata": {
    "execution": {
     "iopub.status.busy": "2021-09-04T20:52:13.69855Z",
     "iopub.execute_input": "2021-09-04T20:52:13.698948Z",
     "iopub.status.idle": "2021-09-04T20:52:13.707821Z",
     "shell.execute_reply.started": "2021-09-04T20:52:13.698912Z",
     "shell.execute_reply": "2021-09-04T20:52:13.706759Z"
    },
    "trusted": true
   },
   "execution_count": 9,
   "outputs": []
  },
  {
   "cell_type": "code",
   "source": [
    "df_test['age2']=age2       \n",
    "df_test['rc2']=rc2\n",
    "df_test['ap2']=ap2\n",
    "df_test['vin2']=vin2"
   ],
   "metadata": {
    "execution": {
     "iopub.status.busy": "2021-09-04T20:52:13.854379Z",
     "iopub.execute_input": "2021-09-04T20:52:13.854892Z",
     "iopub.status.idle": "2021-09-04T20:52:13.862623Z",
     "shell.execute_reply.started": "2021-09-04T20:52:13.854857Z",
     "shell.execute_reply": "2021-09-04T20:52:13.86166Z"
    },
    "trusted": true
   },
   "execution_count": 10,
   "outputs": []
  },
  {
   "cell_type": "markdown",
   "source": [
    "### Creating dummy columns"
   ],
   "metadata": {}
  },
  {
   "cell_type": "code",
   "source": [
    "df_dum=pd.get_dummies(df[['age','rc','ap','vin','Gender','Vehicle_Age','Vehicle_Damage','Vehicle_Damage']])\n",
    "df_dum2=pd.get_dummies(df_test[['age2','rc2','ap2','vin2','Gender','Vehicle_Age','Vehicle_Damage','Vehicle_Damage']])"
   ],
   "metadata": {
    "execution": {
     "iopub.status.busy": "2021-09-04T20:52:16.303159Z",
     "iopub.execute_input": "2021-09-04T20:52:16.303528Z",
     "iopub.status.idle": "2021-09-04T20:52:16.533911Z",
     "shell.execute_reply.started": "2021-09-04T20:52:16.303497Z",
     "shell.execute_reply": "2021-09-04T20:52:16.533023Z"
    },
    "trusted": true
   },
   "execution_count": 11,
   "outputs": []
  },
  {
   "cell_type": "code",
   "source": [
    "df=pd.concat([df,df_dum],axis=1)\n",
    "df_test=pd.concat([df_test,df_dum2],axis=1)"
   ],
   "metadata": {
    "execution": {
     "iopub.status.busy": "2021-09-04T20:52:16.535512Z",
     "iopub.execute_input": "2021-09-04T20:52:16.535869Z",
     "iopub.status.idle": "2021-09-04T20:52:16.5833Z",
     "shell.execute_reply.started": "2021-09-04T20:52:16.535832Z",
     "shell.execute_reply": "2021-09-04T20:52:16.582392Z"
    },
    "trusted": true
   },
   "execution_count": 12,
   "outputs": []
  },
  {
   "cell_type": "code",
   "source": [
    "df.drop(['Gender','Age','age','Region_Code','rc','Vehicle_Age','Vehicle_Damage','Annual_Premium','ap','Vintage','vin'],axis=1,inplace=True)\n",
    "df_test.drop(['Gender','Age','age2','Region_Code','rc2','Vehicle_Age','Vehicle_Damage','Annual_Premium','ap2','Vintage','vin2'],axis=1,inplace=True)"
   ],
   "metadata": {
    "execution": {
     "iopub.status.busy": "2021-09-04T20:52:16.637897Z",
     "iopub.execute_input": "2021-09-04T20:52:16.638186Z",
     "iopub.status.idle": "2021-09-04T20:52:16.694709Z",
     "shell.execute_reply.started": "2021-09-04T20:52:16.638155Z",
     "shell.execute_reply": "2021-09-04T20:52:16.693807Z"
    },
    "trusted": true
   },
   "execution_count": 13,
   "outputs": []
  },
  {
   "cell_type": "markdown",
   "source": [
    "# Scaling the data"
   ],
   "metadata": {}
  },
  {
   "cell_type": "code",
   "source": [
    "from sklearn.preprocessing import StandardScaler as sc"
   ],
   "metadata": {
    "execution": {
     "iopub.status.busy": "2021-09-04T20:52:18.913849Z",
     "iopub.execute_input": "2021-09-04T20:52:18.914174Z",
     "iopub.status.idle": "2021-09-04T20:52:19.010572Z",
     "shell.execute_reply.started": "2021-09-04T20:52:18.914141Z",
     "shell.execute_reply": "2021-09-04T20:52:19.009726Z"
    },
    "trusted": true
   },
   "execution_count": 14,
   "outputs": []
  },
  {
   "cell_type": "code",
   "source": [
    "scaler=sc()\n",
    "scaled_df=scaler.fit_transform(df.drop(['id','Response'],axis=1))\n",
    "scaled_dft=scaler.fit_transform(df_test.drop('id',axis=1))"
   ],
   "metadata": {
    "execution": {
     "iopub.status.busy": "2021-09-04T20:52:19.057895Z",
     "iopub.execute_input": "2021-09-04T20:52:19.058152Z",
     "iopub.status.idle": "2021-09-04T20:52:19.446506Z",
     "shell.execute_reply.started": "2021-09-04T20:52:19.058126Z",
     "shell.execute_reply": "2021-09-04T20:52:19.445658Z"
    },
    "trusted": true
   },
   "execution_count": 15,
   "outputs": []
  },
  {
   "cell_type": "markdown",
   "source": [
    "### Dividing the data"
   ],
   "metadata": {}
  },
  {
   "cell_type": "code",
   "source": [
    "from sklearn.model_selection import train_test_split\n",
    "xtr,xte,ytr,yte=train_test_split(scaled_df,df['Response'],random_state=42,test_size=0.27)"
   ],
   "metadata": {
    "execution": {
     "iopub.status.busy": "2021-09-04T20:54:40.033573Z",
     "iopub.execute_input": "2021-09-04T20:54:40.033932Z",
     "iopub.status.idle": "2021-09-04T20:54:40.214823Z",
     "shell.execute_reply.started": "2021-09-04T20:54:40.033898Z",
     "shell.execute_reply": "2021-09-04T20:54:40.213803Z"
    },
    "trusted": true
   },
   "execution_count": 16,
   "outputs": []
  },
  {
   "cell_type": "markdown",
   "source": [
    "# Selecting the right model with tuned Hyper-Parameters"
   ],
   "metadata": {}
  },
  {
   "cell_type": "code",
   "source": [
    "from sklearn.linear_model import SGDClassifier\n",
    "from sklearn.model_selection import RandomizedSearchCV"
   ],
   "metadata": {
    "execution": {
     "iopub.status.busy": "2021-09-03T17:16:24.797536Z",
     "iopub.execute_input": "2021-09-03T17:16:24.79781Z",
     "iopub.status.idle": "2021-09-03T17:16:24.802023Z",
     "shell.execute_reply.started": "2021-09-03T17:16:24.797782Z",
     "shell.execute_reply": "2021-09-03T17:16:24.801017Z"
    },
    "trusted": true
   },
   "execution_count": 17,
   "outputs": []
  },
  {
   "cell_type": "code",
   "source": [
    "sgc=SGDClassifier(penalty='l1',loss='modified_huber',early_stopping=True)\n",
    "model_params={'alpha':[0.0012,0.0011,0.0013],\n",
    "              'learning_rate':['invscaling'],\n",
    "              'max_iter':[690,700,710],\n",
    "              'validation_fraction':[0.46,0.47,0.48],\n",
    "              'eta0':[0.65,0.66,0.64]}\n",
    "ran=RandomizedSearchCV(sgc,param_distributions=model_params,cv=5,n_jobs=-1,verbose=2,n_iter=100)"
   ],
   "metadata": {
    "execution": {
     "iopub.status.busy": "2021-09-03T18:17:27.102003Z",
     "iopub.execute_input": "2021-09-03T18:17:27.10239Z",
     "iopub.status.idle": "2021-09-03T18:17:27.107869Z",
     "shell.execute_reply.started": "2021-09-03T18:17:27.102357Z",
     "shell.execute_reply": "2021-09-03T18:17:27.107112Z"
    },
    "trusted": true
   },
   "execution_count": 18,
   "outputs": []
  },
  {
   "cell_type": "code",
   "source": [
    "ran.fit(scaled_df,df['Response'])"
   ],
   "metadata": {
    "execution": {
     "iopub.status.busy": "2021-09-03T18:17:31.698131Z",
     "iopub.execute_input": "2021-09-03T18:17:31.698486Z",
     "iopub.status.idle": "2021-09-03T18:24:46.119851Z",
     "shell.execute_reply.started": "2021-09-03T18:17:31.698453Z",
     "shell.execute_reply": "2021-09-03T18:24:46.118749Z"
    },
    "trusted": true,
    "pycharm": {
     "is_executing": true
    }
   },
   "execution_count": null,
   "outputs": [
    {
     "name": "stderr",
     "output_type": "stream",
     "text": [
      "C:\\Python310\\lib\\site-packages\\sklearn\\model_selection\\_search.py:306: UserWarning: The total space of parameters 81 is smaller than n_iter=100. Running 81 iterations. For exhaustive searches, use GridSearchCV.\n",
      "  warnings.warn(\n"
     ]
    },
    {
     "name": "stdout",
     "output_type": "stream",
     "text": [
      "Fitting 5 folds for each of 81 candidates, totalling 405 fits\n"
     ]
    }
   ]
  },
  {
   "cell_type": "code",
   "source": [
    "ran.best_params_"
   ],
   "metadata": {
    "execution": {
     "iopub.status.busy": "2021-09-03T18:24:57.367809Z",
     "iopub.execute_input": "2021-09-03T18:24:57.368229Z",
     "iopub.status.idle": "2021-09-03T18:24:57.375249Z",
     "shell.execute_reply.started": "2021-09-03T18:24:57.368189Z",
     "shell.execute_reply": "2021-09-03T18:24:57.374093Z"
    },
    "trusted": true,
    "pycharm": {
     "is_executing": true
    }
   },
   "execution_count": null,
   "outputs": []
  },
  {
   "cell_type": "code",
   "source": [
    "ran.best_score_"
   ],
   "metadata": {
    "execution": {
     "iopub.status.busy": "2021-09-03T18:25:14.514122Z",
     "iopub.execute_input": "2021-09-03T18:25:14.5145Z",
     "iopub.status.idle": "2021-09-03T18:25:14.520472Z",
     "shell.execute_reply.started": "2021-09-03T18:25:14.514465Z",
     "shell.execute_reply": "2021-09-03T18:25:14.519575Z"
    },
    "trusted": true,
    "pycharm": {
     "is_executing": true
    }
   },
   "execution_count": null,
   "outputs": []
  },
  {
   "cell_type": "code",
   "source": [
    "y_pred=ran.predict(scaled_dft)"
   ],
   "metadata": {
    "execution": {
     "iopub.status.busy": "2021-09-03T18:25:18.223615Z",
     "iopub.execute_input": "2021-09-03T18:25:18.223945Z",
     "iopub.status.idle": "2021-09-03T18:25:18.238203Z",
     "shell.execute_reply.started": "2021-09-03T18:25:18.223916Z",
     "shell.execute_reply": "2021-09-03T18:25:18.236609Z"
    },
    "trusted": true,
    "pycharm": {
     "is_executing": true
    }
   },
   "execution_count": null,
   "outputs": []
  },
  {
   "cell_type": "code",
   "source": [
    "submissions=pd.DataFrame({'id':df_test['id'],'Response':y_pred})"
   ],
   "metadata": {
    "execution": {
     "iopub.status.busy": "2021-09-03T18:25:20.048754Z",
     "iopub.execute_input": "2021-09-03T18:25:20.049166Z",
     "iopub.status.idle": "2021-09-03T18:25:20.056651Z",
     "shell.execute_reply.started": "2021-09-03T18:25:20.049129Z",
     "shell.execute_reply": "2021-09-03T18:25:20.055765Z"
    },
    "trusted": true,
    "pycharm": {
     "is_executing": true
    }
   },
   "execution_count": null,
   "outputs": []
  },
  {
   "cell_type": "markdown",
   "source": [
    "# Building our Neural-Net model"
   ],
   "metadata": {}
  },
  {
   "cell_type": "code",
   "source": [
    "import tensorflow as tf\n",
    "from tensorflow import keras\n",
    "from tensorflow.keras import layers, callbacks"
   ],
   "metadata": {
    "execution": {
     "iopub.status.busy": "2021-09-04T20:52:25.893691Z",
     "iopub.execute_input": "2021-09-04T20:52:25.894012Z",
     "iopub.status.idle": "2021-09-04T20:52:29.319707Z",
     "shell.execute_reply.started": "2021-09-04T20:52:25.89398Z",
     "shell.execute_reply": "2021-09-04T20:52:29.318813Z"
    },
    "trusted": true,
    "pycharm": {
     "is_executing": true
    }
   },
   "execution_count": null,
   "outputs": []
  },
  {
   "cell_type": "code",
   "source": [
    "model=keras.Sequential([layers.Dense(units=1024,activation='relu',input_shape=[32]),\n",
    "                        layers.BatchNormalization(),\n",
    "                        layers.Dense(units=1024,activation='relu'),\n",
    "                        layers.Dropout(0.27),\n",
    "                        layers.BatchNormalization(),\n",
    "                        layers.Dense(units=1024,activation='relu'),\n",
    "                        layers.Dropout(0.27),\n",
    "                        layers.BatchNormalization(),\n",
    "                        layers.Dense(units=1024,activation='relu'),\n",
    "                        layers.Dropout(0.27),\n",
    "                        layers.BatchNormalization(),\n",
    "                        layers.Dense(units=1024,activation='relu'),\n",
    "                        layers.Dropout(0.27),\n",
    "                        layers.BatchNormalization(),\n",
    "                        layers.Dense(units=1024,activation='relu'),\n",
    "                        layers.Dropout(0.27),\n",
    "                        layers.BatchNormalization(),\n",
    "                        layers.Dense(units=1024,activation='relu'),\n",
    "                        layers.Dropout(0.27),\n",
    "                        layers.BatchNormalization(),\n",
    "                        layers.Dense(units=1,activation='sigmoid')])"
   ],
   "metadata": {
    "execution": {
     "iopub.status.busy": "2021-09-04T20:58:27.221238Z",
     "iopub.execute_input": "2021-09-04T20:58:27.221598Z",
     "iopub.status.idle": "2021-09-04T20:58:27.604602Z",
     "shell.execute_reply.started": "2021-09-04T20:58:27.221565Z",
     "shell.execute_reply": "2021-09-04T20:58:27.603692Z"
    },
    "trusted": true,
    "pycharm": {
     "is_executing": true
    }
   },
   "execution_count": null,
   "outputs": []
  },
  {
   "cell_type": "code",
   "source": [
    "model.compile(optimizer='Adam',loss='binary_crossentropy', metrics=['accuracy'])"
   ],
   "metadata": {
    "execution": {
     "iopub.status.busy": "2021-09-04T20:58:27.606013Z",
     "iopub.execute_input": "2021-09-04T20:58:27.60638Z",
     "iopub.status.idle": "2021-09-04T20:58:27.618816Z",
     "shell.execute_reply.started": "2021-09-04T20:58:27.606344Z",
     "shell.execute_reply": "2021-09-04T20:58:27.617813Z"
    },
    "trusted": true,
    "pycharm": {
     "is_executing": true
    }
   },
   "execution_count": null,
   "outputs": []
  },
  {
   "cell_type": "code",
   "source": [
    "early_stop=callbacks.EarlyStopping(min_delta=0.001, patience=20, restore_best_weights=True)\n",
    "history = model.fit(\n",
    "    xtr, ytr,\n",
    "    validation_data=(xte, yte),\n",
    "    batch_size=512,\n",
    "    epochs=100,\n",
    "    callbacks=[early_stop]\n",
    ")"
   ],
   "metadata": {
    "execution": {
     "iopub.status.busy": "2021-09-04T20:58:27.804248Z",
     "iopub.execute_input": "2021-09-04T20:58:27.804579Z",
     "iopub.status.idle": "2021-09-04T21:00:42.355553Z",
     "shell.execute_reply.started": "2021-09-04T20:58:27.804549Z",
     "shell.execute_reply": "2021-09-04T21:00:42.354699Z"
    },
    "trusted": true,
    "pycharm": {
     "is_executing": true
    }
   },
   "execution_count": null,
   "outputs": []
  },
  {
   "cell_type": "code",
   "source": [
    "history_df = pd.DataFrame(history.history)\n",
    "history_df.loc[:, ['loss', 'val_loss']].plot();\n",
    "print(\"Minimum validation loss: {}\".format(history_df['val_loss'].min()))"
   ],
   "metadata": {
    "execution": {
     "iopub.status.busy": "2021-09-04T21:00:42.356884Z",
     "iopub.execute_input": "2021-09-04T21:00:42.357191Z",
     "iopub.status.idle": "2021-09-04T21:00:42.512143Z",
     "shell.execute_reply.started": "2021-09-04T21:00:42.357155Z",
     "shell.execute_reply": "2021-09-04T21:00:42.511183Z"
    },
    "trusted": true,
    "pycharm": {
     "is_executing": true
    }
   },
   "execution_count": null,
   "outputs": []
  },
  {
   "cell_type": "markdown",
   "source": [
    "## 87.6% Accuracy"
   ],
   "metadata": {}
  },
  {
   "cell_type": "code",
   "execution_count": null,
   "outputs": [],
   "source": [],
   "metadata": {
    "collapsed": false,
    "pycharm": {
     "is_executing": true
    }
   }
  }
 ]
}
