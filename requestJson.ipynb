{
 "cells": [
  {
   "cell_type": "raw",
   "source": [
    "---\n",
    "title: Teste chamada do Motor\n",
    "description: Chamada do Motor\n",
    "show-code: true\n",
    "---"
   ],
   "metadata": {
    "collapsed": false
   }
  },
  {
   "cell_type": "markdown",
   "source": [
    "# Motor POST"
   ],
   "metadata": {
    "collapsed": false
   }
  },
  {
   "cell_type": "code",
   "execution_count": 103,
   "outputs": [
    {
     "data": {
      "text/plain": "[{'codigoRetorno': 5183,\n  'nomeAmigavel': 'Calcu',\n  'devolutiva': '',\n  'formulas': [{'formula': 'f0',\n    'tipagem': 'Decimal',\n    'resultado': '',\n    'devolutiva': None,\n    'erro': 'For input string: \"A\"'},\n   {'formula': 'reft',\n    'tipagem': 'Decimal',\n    'resultado': '1.0',\n    'devolutiva': '',\n    'erro': None}]}]"
     },
     "execution_count": 103,
     "metadata": {},
     "output_type": "execute_result"
    }
   ],
   "source": [
    "import requests\n",
    "\n",
    "url = 'http://dev.abaccusapi.com.br:8080/app/motor/contexto/984'\n",
    "headers = {'Accept': 'application/json','Content-type': 'application/json'}\n",
    "\n",
    "r = requests.post(url, json={}, headers = headers)\n",
    "\n",
    "r.json()['objeto']['calculos']"
   ],
   "metadata": {
    "collapsed": false
   }
  },
  {
   "cell_type": "markdown",
   "source": [
    "### Somente o resultado do codigoRetorno 5183 e da formula reft"
   ],
   "metadata": {
    "collapsed": false
   }
  },
  {
   "cell_type": "code",
   "execution_count": 104,
   "outputs": [
    {
     "data": {
      "text/plain": "['1.0']"
     },
     "execution_count": 104,
     "metadata": {},
     "output_type": "execute_result"
    }
   ],
   "source": [
    "\n",
    "cal = []\n",
    "\n",
    "for i in r.json()['objeto']['calculos']:\n",
    "    if i['codigoRetorno'] == 5183:\n",
    "        for f in i['formulas']:\n",
    "            if f['formula'] == 'reft':\n",
    "                cal.append(f['resultado'])\n",
    "\n",
    "cal"
   ],
   "metadata": {
    "collapsed": false
   }
  }
 ],
 "metadata": {
  "kernelspec": {
   "display_name": "Python 3",
   "language": "python",
   "name": "python3"
  },
  "language_info": {
   "codemirror_mode": {
    "name": "ipython",
    "version": 2
   },
   "file_extension": ".py",
   "mimetype": "text/x-python",
   "name": "python",
   "nbconvert_exporter": "python",
   "pygments_lexer": "ipython2",
   "version": "2.7.6"
  }
 },
 "nbformat": 4,
 "nbformat_minor": 0
}
